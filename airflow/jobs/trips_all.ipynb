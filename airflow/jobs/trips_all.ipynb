{
 "cells": [
  {
   "cell_type": "code",
   "execution_count": null,
   "id": "49a68a29-8ab5-4580-b7d4-baae65bdbda3",
   "metadata": {},
   "outputs": [],
   "source": [
    "import pyspark\n",
    "from pyspark.sql import SparkSession\n",
    "\n",
    "spark = SparkSession.builder \\\n",
    "        .master('local[*]')\\\n",
    "        .appName('test') \\\n",
    "        .getOrCreate()"
   ]
  },
  {
   "cell_type": "code",
   "execution_count": null,
   "id": "6d5886d3-5609-47c9-a23e-126dfbcf1f56",
   "metadata": {},
   "outputs": [],
   "source": [
    "df_green = spark.read.parquet('data/pq/green/*/*')\n",
    "df_yellow = spark.read.parquet(\"data/pq/yellow/*/*\")"
   ]
  },
  {
   "cell_type": "code",
   "execution_count": null,
   "id": "97dbdab4-a3f5-44b7-94ea-d30242f4b12f",
   "metadata": {},
   "outputs": [],
   "source": [
    "common_cols = []\n",
    "yellow_cols = set(df_yellow.columns)\n",
    "\n",
    "for col in df_green.columns:\n",
    "    if col in yellow_cols:\n",
    "        common_cols.append(col)"
   ]
  },
  {
   "cell_type": "code",
   "execution_count": null,
   "id": "c86f7219-c03e-4a74-9e19-405a43c6db1c",
   "metadata": {},
   "outputs": [],
   "source": [
    "from pyspark.sql import functions as funcs"
   ]
  },
  {
   "cell_type": "code",
   "execution_count": null,
   "id": "85bd07c1-0e96-4d5e-9fa0-5d2ac56c7d9f",
   "metadata": {},
   "outputs": [],
   "source": [
    "df_green_sel = df_green.select(common_cols)\n",
    "df_yellow_sel = df_yellow.select(common_cols)"
   ]
  },
  {
   "cell_type": "code",
   "execution_count": null,
   "id": "d253f0bb-c9fa-4681-a48c-04fb12c9fbca",
   "metadata": {},
   "outputs": [],
   "source": [
    "df_trips_data = df_green_sel.unionAll(df_yellow_sel)"
   ]
  },
  {
   "cell_type": "code",
   "execution_count": null,
   "id": "468b88b1-b389-4b11-9beb-2ff079d1c816",
   "metadata": {},
   "outputs": [],
   "source": [
    "df_results = spark.sql(\"\"\"\n",
    "SELECT  \n",
    "    -- Revenue grouping \n",
    "    date_trunc('month', 'pickup_datetime') as revenue_month, \n",
    "\n",
    "    service_type, \n",
    "\n",
    "    -- Revenue calculation \n",
    "    SUM(fare_amount) as revenue_monthly_fare,\n",
    "    SUM(extra) as revenue_monthly_extra,\n",
    "    SUM(mta_tax) as revenue_monthly_mta_tax,\n",
    "    SUM(tip_amount) as revenue_monthly_tip_amount,\n",
    "    SUM(tolls_amount) as revenue_monthly_tolls_amount,\n",
    "    SUM(improvement_surcharge) as revenue_monthly_improvement_surcharge,\n",
    "    SUM(total_amount) as revenue_monthly_total_amount,\n",
    "\n",
    "    -- Additional calculations\n",
    "    AVG(passenger_count) as avg_monthly_passenger_count,\n",
    "    AVG(trip_distance) as avg_monthly_trip_distance\n",
    "\n",
    "FROM trips_data\n",
    "    GROUP BY revenue_month, service_type\n",
    "\n",
    "        \"\"\")"
   ]
  },
  {
   "cell_type": "code",
   "execution_count": null,
   "id": "9df6a49b-00fe-4b5d-8142-8261ffad6b7d",
   "metadata": {},
   "outputs": [],
   "source": [
    "df_results.show()"
   ]
  }
 ],
 "metadata": {
  "kernelspec": {
   "display_name": "Python 3 (ipykernel)",
   "language": "python",
   "name": "python3"
  },
  "language_info": {
   "codemirror_mode": {
    "name": "ipython",
    "version": 3
   },
   "file_extension": ".py",
   "mimetype": "text/x-python",
   "name": "python",
   "nbconvert_exporter": "python",
   "pygments_lexer": "ipython3",
   "version": "3.12.2"
  }
 },
 "nbformat": 4,
 "nbformat_minor": 5
}
