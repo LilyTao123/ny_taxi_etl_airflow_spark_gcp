{
 "cells": [
  {
   "cell_type": "code",
   "execution_count": 12,
   "id": "49a68a29-8ab5-4580-b7d4-baae65bdbda3",
   "metadata": {},
   "outputs": [],
   "source": [
    "import pyspark\n",
    "from pyspark.sql import SparkSession\n",
    "\n",
    "spark = SparkSession.builder \\\n",
    "        .master('local[*]')\\\n",
    "        .appName('test') \\\n",
    "        .getOrCreate()"
   ]
  },
  {
   "cell_type": "code",
   "execution_count": null,
   "id": "6d5886d3-5609-47c9-a23e-126dfbcf1f56",
   "metadata": {},
   "outputs": [],
   "source": [
    "df_green = spark.read.parquet('data/pq/green/*/*')\n",
    "df_yellow = spark.read.parquet(\"data/pq/yellow/*/*\")"
   ]
  },
  {
   "cell_type": "code",
   "execution_count": null,
   "id": "97dbdab4-a3f5-44b7-94ea-d30242f4b12f",
   "metadata": {},
   "outputs": [],
   "source": [
    "common_cols = []\n",
    "yellow_cols = set(df_yellow.columns)\n",
    "\n",
    "for col in df_green.columns:\n",
    "    if col in yellow_cols:\n",
    "        common_cols.append(col)"
   ]
  },
  {
   "cell_type": "code",
   "execution_count": null,
   "id": "c86f7219-c03e-4a74-9e19-405a43c6db1c",
   "metadata": {},
   "outputs": [],
   "source": [
    "from pyspark.sql import functions as funcs"
   ]
  },
  {
   "cell_type": "code",
   "execution_count": null,
   "id": "85bd07c1-0e96-4d5e-9fa0-5d2ac56c7d9f",
   "metadata": {},
   "outputs": [],
   "source": [
    "df_green_sel = df_green.select(common_cols)\n",
    "df_yellow_sel = df_yellow.select(common_cols)"
   ]
  },
  {
   "cell_type": "code",
   "execution_count": null,
   "id": "d253f0bb-c9fa-4681-a48c-04fb12c9fbca",
   "metadata": {},
   "outputs": [],
   "source": [
    "df_trips_data = df_green_sel.unionAll(df_yellow_sel)"
   ]
  },
  {
   "cell_type": "code",
   "execution_count": null,
   "id": "468b88b1-b389-4b11-9beb-2ff079d1c816",
   "metadata": {},
   "outputs": [],
   "source": [
    "df_results = spark.sql(\"\"\"\n",
    "SELECT  \n",
    "    -- Revenue grouping \n",
    "    date_trunc('month', 'pickup_datetime') as revenue_month, \n",
    "\n",
    "    service_type, \n",
    "\n",
    "    -- Revenue calculation \n",
    "    SUM(fare_amount) as revenue_monthly_fare,\n",
    "    SUM(extra) as revenue_monthly_extra,\n",
    "    SUM(mta_tax) as revenue_monthly_mta_tax,\n",
    "    SUM(tip_amount) as revenue_monthly_tip_amount,\n",
    "    SUM(tolls_amount) as revenue_monthly_tolls_amount,\n",
    "    SUM(improvement_surcharge) as revenue_monthly_improvement_surcharge,\n",
    "    SUM(total_amount) as revenue_monthly_total_amount,\n",
    "\n",
    "    -- Additional calculations\n",
    "    AVG(passenger_count) as avg_monthly_passenger_count,\n",
    "    AVG(trip_distance) as avg_monthly_trip_distance\n",
    "\n",
    "FROM trips_data\n",
    "    GROUP BY revenue_month, service_type\n",
    "\n",
    "        \"\"\")"
   ]
  },
  {
   "cell_type": "code",
   "execution_count": null,
   "id": "9df6a49b-00fe-4b5d-8142-8261ffad6b7d",
   "metadata": {},
   "outputs": [],
   "source": [
    "df_results.show()"
   ]
  },
  {
   "cell_type": "code",
   "execution_count": 13,
   "id": "294b23ea-aaa2-4671-9045-b15564368547",
   "metadata": {},
   "outputs": [],
   "source": [
    "YELLOW_SCHEMA = types.StructType([\n",
    "    types.StructField(\"VendorID\", types.IntegerType(), True),\n",
    "    types.StructField(\"tpep_pickup_datetime\", types.TimestampType(), True),\n",
    "    types.StructField(\"tpep_dropoff_datetime\", types.TimestampType(), True),\n",
    "    types.StructField(\"passenger_count\", types.IntegerType(), True),\n",
    "    types.StructField(\"trip_distance\", types.DoubleType(), True),\n",
    "    types.StructField(\"RatecodeID\", types.IntegerType(), True),\n",
    "    types.StructField(\"store_and_fwd_flag\", types.StringType(), True),\n",
    "    types.StructField(\"PULocationID\", types.IntegerType(), True),\n",
    "    types.StructField(\"DOLocationID\", types.IntegerType(), True),\n",
    "    types.StructField(\"payment_type\", types.IntegerType(), True),\n",
    "    types.StructField(\"fare_amount\", types.DoubleType(), True),\n",
    "    types.StructField(\"extra\", types.DoubleType(), True),\n",
    "    types.StructField(\"mta_tax\", types.DoubleType(), True),\n",
    "    types.StructField(\"tip_amount\", types.DoubleType(), True),\n",
    "    types.StructField(\"tolls_amount\", types.DoubleType(), True),\n",
    "    types.StructField(\"improvement_surcharge\", types.DoubleType(), True),\n",
    "    types.StructField(\"total_amount\", types.DoubleType(), True),\n",
    "    types.StructField(\"congestion_surcharge\", types.DoubleType(), True)\n",
    "])"
   ]
  },
  {
   "cell_type": "code",
   "execution_count": 14,
   "id": "5d661be0-e768-4f33-b08f-d0ba4d610a3d",
   "metadata": {},
   "outputs": [],
   "source": [
    "df = spark.read.parquet('yellow_tripdata_2023-12.parquet', schema = YELLOW_SCHEMA)"
   ]
  },
  {
   "cell_type": "code",
   "execution_count": 24,
   "id": "7793f121-50b7-4616-b68b-9490e07edbbc",
   "metadata": {},
   "outputs": [],
   "source": [
    "from pyspark.sql import types \n",
    "from pyspark.sql.functions import md5, concat_ws, col, coalesce, concat, lit"
   ]
  },
  {
   "cell_type": "code",
   "execution_count": 25,
   "id": "bc7e1e6e-63cf-4837-b863-4b994ecd7458",
   "metadata": {},
   "outputs": [],
   "source": [
    "df = df.withColumn(\n",
    "    \"unique_row_id\",\n",
    "    md5(\n",
    "        concat(\n",
    "            coalesce(col(\"VendorID\").cast(\"string\"), lit('')),\n",
    "            coalesce(col(\"tpep_pickup_datetime\").cast(\"string\"), lit('')),\n",
    "            coalesce(col(\"tpep_dropoff_datetime\").cast(\"string\"), lit('')),\n",
    "            coalesce(col(\"PULocationID\").cast(\"string\"), lit('')),\n",
    "            coalesce(col(\"DOLocationID\").cast(\"string\"), lit('')),\n",
    "            coalesce(col(\"fare_amount\").cast(\"string\"), lit('')),\n",
    "            coalesce(col(\"trip_distance\").cast(\"string\"), lit(''))\n",
    "        )\n",
    "    )\n",
    ")"
   ]
  },
  {
   "cell_type": "code",
   "execution_count": 26,
   "id": "d1d98be3-e68a-407d-89ed-4f8a4ac5d87e",
   "metadata": {},
   "outputs": [
    {
     "data": {
      "text/plain": [
       "DataFrame[VendorID: int, tpep_pickup_datetime: timestamp, tpep_dropoff_datetime: timestamp, passenger_count: bigint, trip_distance: double, RatecodeID: bigint, store_and_fwd_flag: string, PULocationID: int, DOLocationID: int, payment_type: bigint, fare_amount: double, extra: double, mta_tax: double, tip_amount: double, tolls_amount: double, improvement_surcharge: double, total_amount: double, congestion_surcharge: double, Airport_fee: double, unique_row_id: string]"
      ]
     },
     "execution_count": 26,
     "metadata": {},
     "output_type": "execute_result"
    }
   ],
   "source": [
    "df"
   ]
  },
  {
   "cell_type": "code",
   "execution_count": null,
   "id": "c4f14abe-4281-4628-b0fc-a2b08206d724",
   "metadata": {},
   "outputs": [],
   "source": []
  }
 ],
 "metadata": {
  "kernelspec": {
   "display_name": "Python 3 (ipykernel)",
   "language": "python",
   "name": "python3"
  },
  "language_info": {
   "codemirror_mode": {
    "name": "ipython",
    "version": 3
   },
   "file_extension": ".py",
   "mimetype": "text/x-python",
   "name": "python",
   "nbconvert_exporter": "python",
   "pygments_lexer": "ipython3",
   "version": "3.12.2"
  }
 },
 "nbformat": 4,
 "nbformat_minor": 5
}
