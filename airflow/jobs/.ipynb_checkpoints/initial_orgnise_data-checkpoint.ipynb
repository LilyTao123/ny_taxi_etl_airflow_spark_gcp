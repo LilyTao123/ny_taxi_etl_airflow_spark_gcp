{
 "cells": [
  {
   "cell_type": "code",
   "execution_count": 1,
   "id": "c10734c7-c9f2-40ab-a720-a818bd4bdb89",
   "metadata": {},
   "outputs": [
    {
     "name": "stderr",
     "output_type": "stream",
     "text": [
      "Setting default log level to \"WARN\".\n",
      "To adjust logging level use sc.setLogLevel(newLevel). For SparkR, use setLogLevel(newLevel).\n",
      "25/02/22 14:01:22 WARN NativeCodeLoader: Unable to load native-hadoop library for your platform... using builtin-java classes where applicable\n"
     ]
    }
   ],
   "source": [
    "import pyspark\n",
    "from pyspark.sql import SparkSession\n",
    "from pyspark.sql import functions as funcs\n",
    "\n",
    "spark = SparkSession.builder \\\n",
    "        .master('local[*]')\\\n",
    "        .appName('test') \\\n",
    "        .getOrCreate()"
   ]
  },
  {
   "cell_type": "code",
   "execution_count": 7,
   "id": "6f531170-57f2-4629-834d-f1caa754ed07",
   "metadata": {},
   "outputs": [],
   "source": []
  },
  {
   "cell_type": "code",
   "execution_count": null,
   "id": "eb4b0913-bb0d-4b50-afe3-56852f05fdc7",
   "metadata": {},
   "outputs": [],
   "source": [
    "def orgnise_dataset(path, service_type):\n",
    "    dataset = spark.read.parquet(path)\n",
    "    if service_type == 'green':\n",
    "        dataset = dataset.withColumnRenamed('lpep_pickup_datetime', 'pickup_datetime')\\\n",
    "            .withColumnRenamed('lpep_dropoff_datetime', 'dropoff_datetime')\\\n",
    "            .withColumn('service_type', funcs.lit(service_type))\n",
    "    elif service_type == 'yellow':\n",
    "        dataset = dataset.withColumnRenamed('tpep_pickup_datetime', 'pickup_datetime')\\\n",
    "            .withColumnRenamed('tpep_dropoff_datetime', 'dropoff_datetime')\\\n",
    "            .withColumn('service_type', funcs.lit(service_type))"
   ]
  }
 ],
 "metadata": {
  "kernelspec": {
   "display_name": "Python 3 (ipykernel)",
   "language": "python",
   "name": "python3"
  },
  "language_info": {
   "codemirror_mode": {
    "name": "ipython",
    "version": 3
   },
   "file_extension": ".py",
   "mimetype": "text/x-python",
   "name": "python",
   "nbconvert_exporter": "python",
   "pygments_lexer": "ipython3",
   "version": "3.12.2"
  }
 },
 "nbformat": 4,
 "nbformat_minor": 5
}
